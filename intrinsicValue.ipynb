{
  "nbformat": 4,
  "nbformat_minor": 0,
  "metadata": {
    "colab": {
      "name": "intrinsicValue.ipynb",
      "provenance": [],
      "authorship_tag": "ABX9TyOXbBizX3W55VO+6ADVlzyb",
      "include_colab_link": true
    },
    "kernelspec": {
      "name": "python3",
      "display_name": "Python 3"
    },
    "language_info": {
      "name": "python"
    }
  },
  "cells": [
    {
      "cell_type": "markdown",
      "metadata": {
        "id": "view-in-github",
        "colab_type": "text"
      },
      "source": [
        "<a href=\"https://colab.research.google.com/github/MubshAli/StockEval/blob/main/intrinsicValue.ipynb\" target=\"_parent\"><img src=\"https://colab.research.google.com/assets/colab-badge.svg\" alt=\"Open In Colab\"/></a>"
      ]
    },
    {
      "cell_type": "code",
      "metadata": {
        "colab": {
          "base_uri": "https://localhost:8080/"
        },
        "id": "9RMbehC6vCE8",
        "outputId": "fa3c0c6d-15a0-46e6-c325-6593e5b0c10c"
      },
      "source": [
        "pip install yahoo_fin --upgrade"
      ],
      "execution_count": null,
      "outputs": [
        {
          "output_type": "stream",
          "name": "stdout",
          "text": [
            "Collecting yahoo_fin\n",
            "  Downloading yahoo_fin-0.8.9.1-py3-none-any.whl (10 kB)\n",
            "Requirement already satisfied: requests in /usr/local/lib/python3.7/dist-packages (from yahoo_fin) (2.23.0)\n",
            "Requirement already satisfied: pandas in /usr/local/lib/python3.7/dist-packages (from yahoo_fin) (1.1.5)\n",
            "Collecting feedparser\n",
            "  Downloading feedparser-6.0.8-py3-none-any.whl (81 kB)\n",
            "\u001b[K     |████████████████████████████████| 81 kB 5.8 MB/s \n",
            "\u001b[?25hCollecting requests-html\n",
            "  Downloading requests_html-0.10.0-py3-none-any.whl (13 kB)\n",
            "Collecting sgmllib3k\n",
            "  Downloading sgmllib3k-1.0.0.tar.gz (5.8 kB)\n",
            "Requirement already satisfied: numpy>=1.15.4 in /usr/local/lib/python3.7/dist-packages (from pandas->yahoo_fin) (1.19.5)\n",
            "Requirement already satisfied: python-dateutil>=2.7.3 in /usr/local/lib/python3.7/dist-packages (from pandas->yahoo_fin) (2.8.2)\n",
            "Requirement already satisfied: pytz>=2017.2 in /usr/local/lib/python3.7/dist-packages (from pandas->yahoo_fin) (2018.9)\n",
            "Requirement already satisfied: six>=1.5 in /usr/local/lib/python3.7/dist-packages (from python-dateutil>=2.7.3->pandas->yahoo_fin) (1.15.0)\n",
            "Requirement already satisfied: certifi>=2017.4.17 in /usr/local/lib/python3.7/dist-packages (from requests->yahoo_fin) (2021.5.30)\n",
            "Requirement already satisfied: chardet<4,>=3.0.2 in /usr/local/lib/python3.7/dist-packages (from requests->yahoo_fin) (3.0.4)\n",
            "Requirement already satisfied: urllib3!=1.25.0,!=1.25.1,<1.26,>=1.21.1 in /usr/local/lib/python3.7/dist-packages (from requests->yahoo_fin) (1.24.3)\n",
            "Requirement already satisfied: idna<3,>=2.5 in /usr/local/lib/python3.7/dist-packages (from requests->yahoo_fin) (2.10)\n",
            "Collecting fake-useragent\n",
            "  Downloading fake-useragent-0.1.11.tar.gz (13 kB)\n",
            "Collecting parse\n",
            "  Downloading parse-1.19.0.tar.gz (30 kB)\n",
            "Collecting pyquery\n",
            "  Downloading pyquery-1.4.3-py3-none-any.whl (22 kB)\n",
            "Collecting w3lib\n",
            "  Downloading w3lib-1.22.0-py2.py3-none-any.whl (20 kB)\n",
            "Collecting pyppeteer>=0.0.14\n",
            "  Downloading pyppeteer-0.2.6-py3-none-any.whl (83 kB)\n",
            "\u001b[K     |████████████████████████████████| 83 kB 2.4 MB/s \n",
            "\u001b[?25hRequirement already satisfied: bs4 in /usr/local/lib/python3.7/dist-packages (from requests-html->yahoo_fin) (0.0.1)\n",
            "Requirement already satisfied: tqdm<5.0.0,>=4.42.1 in /usr/local/lib/python3.7/dist-packages (from pyppeteer>=0.0.14->requests-html->yahoo_fin) (4.62.0)\n",
            "Requirement already satisfied: importlib-metadata>=1.4 in /usr/local/lib/python3.7/dist-packages (from pyppeteer>=0.0.14->requests-html->yahoo_fin) (4.6.4)\n",
            "Collecting websockets<10.0,>=9.1\n",
            "  Downloading websockets-9.1-cp37-cp37m-manylinux2010_x86_64.whl (103 kB)\n",
            "\u001b[K     |████████████████████████████████| 103 kB 71.8 MB/s \n",
            "\u001b[?25hCollecting urllib3!=1.25.0,!=1.25.1,<1.26,>=1.21.1\n",
            "  Downloading urllib3-1.25.11-py2.py3-none-any.whl (127 kB)\n",
            "\u001b[K     |████████████████████████████████| 127 kB 71.2 MB/s \n",
            "\u001b[?25hRequirement already satisfied: appdirs<2.0.0,>=1.4.3 in /usr/local/lib/python3.7/dist-packages (from pyppeteer>=0.0.14->requests-html->yahoo_fin) (1.4.4)\n",
            "Collecting pyee<9.0.0,>=8.1.0\n",
            "  Downloading pyee-8.2.2-py2.py3-none-any.whl (12 kB)\n",
            "Requirement already satisfied: typing-extensions>=3.6.4 in /usr/local/lib/python3.7/dist-packages (from importlib-metadata>=1.4->pyppeteer>=0.0.14->requests-html->yahoo_fin) (3.7.4.3)\n",
            "Requirement already satisfied: zipp>=0.5 in /usr/local/lib/python3.7/dist-packages (from importlib-metadata>=1.4->pyppeteer>=0.0.14->requests-html->yahoo_fin) (3.5.0)\n",
            "Requirement already satisfied: beautifulsoup4 in /usr/local/lib/python3.7/dist-packages (from bs4->requests-html->yahoo_fin) (4.6.3)\n",
            "Requirement already satisfied: lxml>=2.1 in /usr/local/lib/python3.7/dist-packages (from pyquery->requests-html->yahoo_fin) (4.2.6)\n",
            "Collecting cssselect>0.7.9\n",
            "  Downloading cssselect-1.1.0-py2.py3-none-any.whl (16 kB)\n",
            "Building wheels for collected packages: fake-useragent, parse, sgmllib3k\n",
            "  Building wheel for fake-useragent (setup.py) ... \u001b[?25l\u001b[?25hdone\n",
            "  Created wheel for fake-useragent: filename=fake_useragent-0.1.11-py3-none-any.whl size=13502 sha256=c4de6c6c5340c9a6eaa90349d22b8b054bc769d47c904473df590fa02da9b50f\n",
            "  Stored in directory: /root/.cache/pip/wheels/ed/f7/62/50ab6c9a0b5567267ab76a9daa9d06315704209b2c5d032031\n",
            "  Building wheel for parse (setup.py) ... \u001b[?25l\u001b[?25hdone\n",
            "  Created wheel for parse: filename=parse-1.19.0-py3-none-any.whl size=24591 sha256=089c5bfb8901486bdf98c011d40e3c53bdf1ce6e96ab76bb167ab2fd1cb61ad1\n",
            "  Stored in directory: /root/.cache/pip/wheels/9c/aa/cc/f2228050ccb40f22144b073f15a2c84f11204f29fc0dce028e\n",
            "  Building wheel for sgmllib3k (setup.py) ... \u001b[?25l\u001b[?25hdone\n",
            "  Created wheel for sgmllib3k: filename=sgmllib3k-1.0.0-py3-none-any.whl size=6065 sha256=e2501a40124e0d4de3d9fc6ecdc45e5c22860daf4019eb2964e2a85dac7133a2\n",
            "  Stored in directory: /root/.cache/pip/wheels/73/ad/a4/0dff4a6ef231fc0dfa12ffbac2a36cebfdddfe059f50e019aa\n",
            "Successfully built fake-useragent parse sgmllib3k\n",
            "Installing collected packages: websockets, urllib3, pyee, cssselect, w3lib, sgmllib3k, pyquery, pyppeteer, parse, fake-useragent, requests-html, feedparser, yahoo-fin\n",
            "  Attempting uninstall: urllib3\n",
            "    Found existing installation: urllib3 1.24.3\n",
            "    Uninstalling urllib3-1.24.3:\n",
            "      Successfully uninstalled urllib3-1.24.3\n",
            "\u001b[31mERROR: pip's dependency resolver does not currently take into account all the packages that are installed. This behaviour is the source of the following dependency conflicts.\n",
            "datascience 0.10.6 requires folium==0.2.1, but you have folium 0.8.3 which is incompatible.\u001b[0m\n",
            "Successfully installed cssselect-1.1.0 fake-useragent-0.1.11 feedparser-6.0.8 parse-1.19.0 pyee-8.2.2 pyppeteer-0.2.6 pyquery-1.4.3 requests-html-0.10.0 sgmllib3k-1.0.0 urllib3-1.25.11 w3lib-1.22.0 websockets-9.1 yahoo-fin-0.8.9.1\n"
          ]
        }
      ]
    },
    {
      "cell_type": "code",
      "metadata": {
        "colab": {
          "base_uri": "https://localhost:8080/"
        },
        "id": "IsD-n6a9vLut",
        "outputId": "bd251547-8943-4d22-a568-59f3c9eb5427"
      },
      "source": [
        "pip install requests_html"
      ],
      "execution_count": null,
      "outputs": [
        {
          "output_type": "stream",
          "name": "stdout",
          "text": [
            "Requirement already satisfied: requests_html in /usr/local/lib/python3.7/dist-packages (0.10.0)\n",
            "Requirement already satisfied: pyquery in /usr/local/lib/python3.7/dist-packages (from requests_html) (1.4.3)\n",
            "Requirement already satisfied: fake-useragent in /usr/local/lib/python3.7/dist-packages (from requests_html) (0.1.11)\n",
            "Requirement already satisfied: w3lib in /usr/local/lib/python3.7/dist-packages (from requests_html) (1.22.0)\n",
            "Requirement already satisfied: requests in /usr/local/lib/python3.7/dist-packages (from requests_html) (2.23.0)\n",
            "Requirement already satisfied: pyppeteer>=0.0.14 in /usr/local/lib/python3.7/dist-packages (from requests_html) (0.2.6)\n",
            "Requirement already satisfied: parse in /usr/local/lib/python3.7/dist-packages (from requests_html) (1.19.0)\n",
            "Requirement already satisfied: bs4 in /usr/local/lib/python3.7/dist-packages (from requests_html) (0.0.1)\n",
            "Requirement already satisfied: websockets<10.0,>=9.1 in /usr/local/lib/python3.7/dist-packages (from pyppeteer>=0.0.14->requests_html) (9.1)\n",
            "Requirement already satisfied: urllib3<2.0.0,>=1.25.8 in /usr/local/lib/python3.7/dist-packages (from pyppeteer>=0.0.14->requests_html) (1.25.11)\n",
            "Requirement already satisfied: tqdm<5.0.0,>=4.42.1 in /usr/local/lib/python3.7/dist-packages (from pyppeteer>=0.0.14->requests_html) (4.62.0)\n",
            "Requirement already satisfied: appdirs<2.0.0,>=1.4.3 in /usr/local/lib/python3.7/dist-packages (from pyppeteer>=0.0.14->requests_html) (1.4.4)\n",
            "Requirement already satisfied: pyee<9.0.0,>=8.1.0 in /usr/local/lib/python3.7/dist-packages (from pyppeteer>=0.0.14->requests_html) (8.2.2)\n",
            "Requirement already satisfied: importlib-metadata>=1.4 in /usr/local/lib/python3.7/dist-packages (from pyppeteer>=0.0.14->requests_html) (4.6.4)\n",
            "Requirement already satisfied: zipp>=0.5 in /usr/local/lib/python3.7/dist-packages (from importlib-metadata>=1.4->pyppeteer>=0.0.14->requests_html) (3.5.0)\n",
            "Requirement already satisfied: typing-extensions>=3.6.4 in /usr/local/lib/python3.7/dist-packages (from importlib-metadata>=1.4->pyppeteer>=0.0.14->requests_html) (3.7.4.3)\n",
            "Requirement already satisfied: beautifulsoup4 in /usr/local/lib/python3.7/dist-packages (from bs4->requests_html) (4.6.3)\n",
            "Requirement already satisfied: lxml>=2.1 in /usr/local/lib/python3.7/dist-packages (from pyquery->requests_html) (4.2.6)\n",
            "Requirement already satisfied: cssselect>0.7.9 in /usr/local/lib/python3.7/dist-packages (from pyquery->requests_html) (1.1.0)\n",
            "Requirement already satisfied: chardet<4,>=3.0.2 in /usr/local/lib/python3.7/dist-packages (from requests->requests_html) (3.0.4)\n",
            "Requirement already satisfied: idna<3,>=2.5 in /usr/local/lib/python3.7/dist-packages (from requests->requests_html) (2.10)\n",
            "Requirement already satisfied: certifi>=2017.4.17 in /usr/local/lib/python3.7/dist-packages (from requests->requests_html) (2021.5.30)\n",
            "Requirement already satisfied: six>=1.4.1 in /usr/local/lib/python3.7/dist-packages (from w3lib->requests_html) (1.15.0)\n"
          ]
        }
      ]
    },
    {
      "cell_type": "code",
      "metadata": {
        "id": "YIDkqyufvTAr"
      },
      "source": [
        "from yahoo_fin.stock_info import get_data\n",
        "#get_analysts_info()"
      ],
      "execution_count": null,
      "outputs": []
    },
    {
      "cell_type": "code",
      "metadata": {
        "id": "2o57zwkevXP7"
      },
      "source": [
        "import yahoo_fin.stock_info as si"
      ],
      "execution_count": null,
      "outputs": []
    },
    {
      "cell_type": "code",
      "metadata": {
        "colab": {
          "base_uri": "https://localhost:8080/"
        },
        "id": "zgFDI52pvmjV",
        "outputId": "40f77959-004e-408c-a753-08ce83eab4d4"
      },
      "source": [
        "\n"
      ],
      "execution_count": null,
      "outputs": [
        {
          "output_type": "execute_result",
          "data": {
            "text/plain": [
              "{'1y Target Est': 167.13,\n",
              " '52 Week Range': '103.10 - 157.26',\n",
              " 'Ask': '148.72 x 1100',\n",
              " 'Avg. Volume': 78099357.0,\n",
              " 'Beta (5Y Monthly)': 1.2,\n",
              " 'Bid': '148.71 x 2200',\n",
              " \"Day's Range\": '148.70 - 155.48',\n",
              " 'EPS (TTM)': 5.11,\n",
              " 'Earnings Date': 'Oct 27, 2021 - Nov 01, 2021',\n",
              " 'Ex-Dividend Date': 'Aug 06, 2021',\n",
              " 'Forward Dividend & Yield': '0.88 (0.59%)',\n",
              " 'Market Cap': '2.463T',\n",
              " 'Open': 155.0,\n",
              " 'PE Ratio (TTM)': 29.16,\n",
              " 'Previous Close': 154.07,\n",
              " 'Quote Price': 148.97000122070312,\n",
              " 'Volume': 140893235.0}"
            ]
          },
          "metadata": {},
          "execution_count": 6
        }
      ]
    },
    {
      "cell_type": "code",
      "metadata": {
        "id": "WYv166HFw_Lz",
        "colab": {
          "base_uri": "https://localhost:8080/",
          "height": 235
        },
        "outputId": "031d0b87-8a7e-4660-d800-ee3117831932"
      },
      "source": [
        "\n"
      ],
      "execution_count": null,
      "outputs": [
        {
          "output_type": "execute_result",
          "data": {
            "text/html": [
              "<div>\n",
              "<style scoped>\n",
              "    .dataframe tbody tr th:only-of-type {\n",
              "        vertical-align: middle;\n",
              "    }\n",
              "\n",
              "    .dataframe tbody tr th {\n",
              "        vertical-align: top;\n",
              "    }\n",
              "\n",
              "    .dataframe thead th {\n",
              "        text-align: right;\n",
              "    }\n",
              "</style>\n",
              "<table border=\"1\" class=\"dataframe\">\n",
              "  <thead>\n",
              "    <tr style=\"text-align: right;\">\n",
              "      <th></th>\n",
              "      <th>Growth Estimates</th>\n",
              "      <th>AAPL</th>\n",
              "      <th>Industry</th>\n",
              "      <th>Sector(s)</th>\n",
              "      <th>S&amp;P 500</th>\n",
              "    </tr>\n",
              "  </thead>\n",
              "  <tbody>\n",
              "    <tr>\n",
              "      <th>0</th>\n",
              "      <td>Current Qtr.</td>\n",
              "      <td>68.50%</td>\n",
              "      <td>NaN</td>\n",
              "      <td>NaN</td>\n",
              "      <td>NaN</td>\n",
              "    </tr>\n",
              "    <tr>\n",
              "      <th>1</th>\n",
              "      <td>Next Qtr.</td>\n",
              "      <td>11.30%</td>\n",
              "      <td>NaN</td>\n",
              "      <td>NaN</td>\n",
              "      <td>NaN</td>\n",
              "    </tr>\n",
              "    <tr>\n",
              "      <th>2</th>\n",
              "      <td>Current Year</td>\n",
              "      <td>70.40%</td>\n",
              "      <td>NaN</td>\n",
              "      <td>NaN</td>\n",
              "      <td>NaN</td>\n",
              "    </tr>\n",
              "    <tr>\n",
              "      <th>3</th>\n",
              "      <td>Next Year</td>\n",
              "      <td>2.10%</td>\n",
              "      <td>NaN</td>\n",
              "      <td>NaN</td>\n",
              "      <td>NaN</td>\n",
              "    </tr>\n",
              "    <tr>\n",
              "      <th>4</th>\n",
              "      <td>Next 5 Years (per annum)</td>\n",
              "      <td>19.61%</td>\n",
              "      <td>NaN</td>\n",
              "      <td>NaN</td>\n",
              "      <td>NaN</td>\n",
              "    </tr>\n",
              "    <tr>\n",
              "      <th>5</th>\n",
              "      <td>Past 5 Years (per annum)</td>\n",
              "      <td>8.42%</td>\n",
              "      <td>NaN</td>\n",
              "      <td>NaN</td>\n",
              "      <td>NaN</td>\n",
              "    </tr>\n",
              "  </tbody>\n",
              "</table>\n",
              "</div>"
            ],
            "text/plain": [
              "           Growth Estimates    AAPL  Industry  Sector(s)  S&P 500\n",
              "0              Current Qtr.  68.50%       NaN        NaN      NaN\n",
              "1                 Next Qtr.  11.30%       NaN        NaN      NaN\n",
              "2              Current Year  70.40%       NaN        NaN      NaN\n",
              "3                 Next Year   2.10%       NaN        NaN      NaN\n",
              "4  Next 5 Years (per annum)  19.61%       NaN        NaN      NaN\n",
              "5  Past 5 Years (per annum)   8.42%       NaN        NaN      NaN"
            ]
          },
          "metadata": {},
          "execution_count": 7
        }
      ]
    },
    {
      "cell_type": "code",
      "metadata": {
        "id": "o9JjpWEpxD6Y"
      },
      "source": [
        "from pandas import *"
      ],
      "execution_count": null,
      "outputs": []
    },
    {
      "cell_type": "code",
      "metadata": {
        "colab": {
          "base_uri": "https://localhost:8080/",
          "height": 235
        },
        "id": "b-Co4cn_bsmZ",
        "outputId": "8795d498-3856-4e11-a4d5-005e9c269be9"
      },
      "source": [
        "x"
      ],
      "execution_count": null,
      "outputs": [
        {
          "output_type": "execute_result",
          "data": {
            "text/html": [
              "<div>\n",
              "<style scoped>\n",
              "    .dataframe tbody tr th:only-of-type {\n",
              "        vertical-align: middle;\n",
              "    }\n",
              "\n",
              "    .dataframe tbody tr th {\n",
              "        vertical-align: top;\n",
              "    }\n",
              "\n",
              "    .dataframe thead th {\n",
              "        text-align: right;\n",
              "    }\n",
              "</style>\n",
              "<table border=\"1\" class=\"dataframe\">\n",
              "  <thead>\n",
              "    <tr style=\"text-align: right;\">\n",
              "      <th></th>\n",
              "      <th>Growth Estimates</th>\n",
              "      <th>AAPL</th>\n",
              "      <th>Industry</th>\n",
              "      <th>Sector(s)</th>\n",
              "      <th>S&amp;P 500</th>\n",
              "    </tr>\n",
              "  </thead>\n",
              "  <tbody>\n",
              "    <tr>\n",
              "      <th>0</th>\n",
              "      <td>Current Qtr.</td>\n",
              "      <td>68.50%</td>\n",
              "      <td>NaN</td>\n",
              "      <td>NaN</td>\n",
              "      <td>NaN</td>\n",
              "    </tr>\n",
              "    <tr>\n",
              "      <th>1</th>\n",
              "      <td>Next Qtr.</td>\n",
              "      <td>11.30%</td>\n",
              "      <td>NaN</td>\n",
              "      <td>NaN</td>\n",
              "      <td>NaN</td>\n",
              "    </tr>\n",
              "    <tr>\n",
              "      <th>2</th>\n",
              "      <td>Current Year</td>\n",
              "      <td>70.40%</td>\n",
              "      <td>NaN</td>\n",
              "      <td>NaN</td>\n",
              "      <td>NaN</td>\n",
              "    </tr>\n",
              "    <tr>\n",
              "      <th>3</th>\n",
              "      <td>Next Year</td>\n",
              "      <td>2.10%</td>\n",
              "      <td>NaN</td>\n",
              "      <td>NaN</td>\n",
              "      <td>NaN</td>\n",
              "    </tr>\n",
              "    <tr>\n",
              "      <th>4</th>\n",
              "      <td>Next 5 Years (per annum)</td>\n",
              "      <td>19.61%</td>\n",
              "      <td>NaN</td>\n",
              "      <td>NaN</td>\n",
              "      <td>NaN</td>\n",
              "    </tr>\n",
              "    <tr>\n",
              "      <th>5</th>\n",
              "      <td>Past 5 Years (per annum)</td>\n",
              "      <td>8.42%</td>\n",
              "      <td>NaN</td>\n",
              "      <td>NaN</td>\n",
              "      <td>NaN</td>\n",
              "    </tr>\n",
              "  </tbody>\n",
              "</table>\n",
              "</div>"
            ],
            "text/plain": [
              "           Growth Estimates    AAPL  Industry  Sector(s)  S&P 500\n",
              "0              Current Qtr.  68.50%       NaN        NaN      NaN\n",
              "1                 Next Qtr.  11.30%       NaN        NaN      NaN\n",
              "2              Current Year  70.40%       NaN        NaN      NaN\n",
              "3                 Next Year   2.10%       NaN        NaN      NaN\n",
              "4  Next 5 Years (per annum)  19.61%       NaN        NaN      NaN\n",
              "5  Past 5 Years (per annum)   8.42%       NaN        NaN      NaN"
            ]
          },
          "metadata": {},
          "execution_count": 8
        }
      ]
    },
    {
      "cell_type": "code",
      "metadata": {
        "colab": {
          "base_uri": "https://localhost:8080/"
        },
        "id": "pYfN7RykbwDp",
        "outputId": "270ce741-3214-4d57-978d-06077817df92"
      },
      "source": [
        ""
      ],
      "execution_count": null,
      "outputs": [
        {
          "output_type": "stream",
          "name": "stdout",
          "text": [
            "1961\n",
            "10000\n",
            "0.1961\n"
          ]
        }
      ]
    },
    {
      "cell_type": "code",
      "metadata": {
        "colab": {
          "base_uri": "https://localhost:8080/"
        },
        "id": "mFiBnzZquaUG",
        "outputId": "25f1908a-77e6-499f-cee5-98b0de508c74"
      },
      "source": [
        "pip install get-all-tickers"
      ],
      "execution_count": null,
      "outputs": [
        {
          "output_type": "stream",
          "name": "stdout",
          "text": [
            "Collecting get-all-tickers\n",
            "  Downloading get_all_tickers-1.8.tar.gz (3.4 kB)\n",
            "Requirement already satisfied: pandas in /usr/local/lib/python3.7/dist-packages (from get-all-tickers) (1.1.5)\n",
            "Requirement already satisfied: requests in /usr/local/lib/python3.7/dist-packages (from get-all-tickers) (2.23.0)\n",
            "Requirement already satisfied: pytz>=2017.2 in /usr/local/lib/python3.7/dist-packages (from pandas->get-all-tickers) (2018.9)\n",
            "Requirement already satisfied: numpy>=1.15.4 in /usr/local/lib/python3.7/dist-packages (from pandas->get-all-tickers) (1.19.5)\n",
            "Requirement already satisfied: python-dateutil>=2.7.3 in /usr/local/lib/python3.7/dist-packages (from pandas->get-all-tickers) (2.8.2)\n",
            "Requirement already satisfied: six>=1.5 in /usr/local/lib/python3.7/dist-packages (from python-dateutil>=2.7.3->pandas->get-all-tickers) (1.15.0)\n",
            "Requirement already satisfied: chardet<4,>=3.0.2 in /usr/local/lib/python3.7/dist-packages (from requests->get-all-tickers) (3.0.4)\n",
            "Requirement already satisfied: idna<3,>=2.5 in /usr/local/lib/python3.7/dist-packages (from requests->get-all-tickers) (2.10)\n",
            "Requirement already satisfied: urllib3!=1.25.0,!=1.25.1,<1.26,>=1.21.1 in /usr/local/lib/python3.7/dist-packages (from requests->get-all-tickers) (1.25.11)\n",
            "Requirement already satisfied: certifi>=2017.4.17 in /usr/local/lib/python3.7/dist-packages (from requests->get-all-tickers) (2021.5.30)\n",
            "Building wheels for collected packages: get-all-tickers\n",
            "  Building wheel for get-all-tickers (setup.py) ... \u001b[?25l\u001b[?25hdone\n",
            "  Created wheel for get-all-tickers: filename=get_all_tickers-1.8-py3-none-any.whl size=4247 sha256=eb9c151df3c9c4a3b70c565f1977f0a0f6c402a31b334de33744563edbad591d\n",
            "  Stored in directory: /root/.cache/pip/wheels/f0/8d/8f/25b9632788de8771fb8be22529bbe0ba5ae5446f3be65b1ab3\n",
            "Successfully built get-all-tickers\n",
            "Installing collected packages: get-all-tickers\n",
            "Successfully installed get-all-tickers-1.8\n"
          ]
        }
      ]
    },
    {
      "cell_type": "code",
      "metadata": {
        "id": "yh9pKvCZbzQM"
      },
      "source": [
        "from get_all_tickers import get_tickers as gt"
      ],
      "execution_count": null,
      "outputs": []
    },
    {
      "cell_type": "code",
      "metadata": {
        "id": "z7BE1zu3ufWh"
      },
      "source": [
        "s = si.tickers_dow()\n",
        "m = si.tickers_nasdaq()\n",
        "a = si.tickers_sp500()\n",
        "o = si.tickers_other()\n",
        "b = s + a + m + o\n",
        "len(b)\n"
      ],
      "execution_count": null,
      "outputs": []
    },
    {
      "cell_type": "code",
      "metadata": {
        "colab": {
          "base_uri": "https://localhost:8080/",
          "height": 235
        },
        "id": "NjmrPaRhCblQ",
        "outputId": "097ec0b3-e92a-461a-e66c-207c94e2485f"
      },
      "source": [
        ""
      ],
      "execution_count": null,
      "outputs": [
        {
          "output_type": "execute_result",
          "data": {
            "text/html": [
              "<div>\n",
              "<style scoped>\n",
              "    .dataframe tbody tr th:only-of-type {\n",
              "        vertical-align: middle;\n",
              "    }\n",
              "\n",
              "    .dataframe tbody tr th {\n",
              "        vertical-align: top;\n",
              "    }\n",
              "\n",
              "    .dataframe thead th {\n",
              "        text-align: right;\n",
              "    }\n",
              "</style>\n",
              "<table border=\"1\" class=\"dataframe\">\n",
              "  <thead>\n",
              "    <tr style=\"text-align: right;\">\n",
              "      <th></th>\n",
              "      <th>Growth Estimates</th>\n",
              "      <th>AAPL</th>\n",
              "      <th>Industry</th>\n",
              "      <th>Sector(s)</th>\n",
              "      <th>S&amp;P 500</th>\n",
              "    </tr>\n",
              "  </thead>\n",
              "  <tbody>\n",
              "    <tr>\n",
              "      <th>0</th>\n",
              "      <td>Current Qtr.</td>\n",
              "      <td>68.50%</td>\n",
              "      <td>NaN</td>\n",
              "      <td>NaN</td>\n",
              "      <td>NaN</td>\n",
              "    </tr>\n",
              "    <tr>\n",
              "      <th>1</th>\n",
              "      <td>Next Qtr.</td>\n",
              "      <td>11.30%</td>\n",
              "      <td>NaN</td>\n",
              "      <td>NaN</td>\n",
              "      <td>NaN</td>\n",
              "    </tr>\n",
              "    <tr>\n",
              "      <th>2</th>\n",
              "      <td>Current Year</td>\n",
              "      <td>70.40%</td>\n",
              "      <td>NaN</td>\n",
              "      <td>NaN</td>\n",
              "      <td>NaN</td>\n",
              "    </tr>\n",
              "    <tr>\n",
              "      <th>3</th>\n",
              "      <td>Next Year</td>\n",
              "      <td>2.10%</td>\n",
              "      <td>NaN</td>\n",
              "      <td>NaN</td>\n",
              "      <td>NaN</td>\n",
              "    </tr>\n",
              "    <tr>\n",
              "      <th>4</th>\n",
              "      <td>Next 5 Years (per annum)</td>\n",
              "      <td>19.61%</td>\n",
              "      <td>NaN</td>\n",
              "      <td>NaN</td>\n",
              "      <td>NaN</td>\n",
              "    </tr>\n",
              "    <tr>\n",
              "      <th>5</th>\n",
              "      <td>Past 5 Years (per annum)</td>\n",
              "      <td>8.42%</td>\n",
              "      <td>NaN</td>\n",
              "      <td>NaN</td>\n",
              "      <td>NaN</td>\n",
              "    </tr>\n",
              "  </tbody>\n",
              "</table>\n",
              "</div>"
            ],
            "text/plain": [
              "           Growth Estimates    AAPL  Industry  Sector(s)  S&P 500\n",
              "0              Current Qtr.  68.50%       NaN        NaN      NaN\n",
              "1                 Next Qtr.  11.30%       NaN        NaN      NaN\n",
              "2              Current Year  70.40%       NaN        NaN      NaN\n",
              "3                 Next Year   2.10%       NaN        NaN      NaN\n",
              "4  Next 5 Years (per annum)  19.61%       NaN        NaN      NaN\n",
              "5  Past 5 Years (per annum)   8.42%       NaN        NaN      NaN"
            ]
          },
          "metadata": {},
          "execution_count": 17
        }
      ]
    },
    {
      "cell_type": "code",
      "metadata": {
        "id": "hVParn-E-xBU",
        "colab": {
          "base_uri": "https://localhost:8080/"
        },
        "outputId": "bc499d57-0a0e-4eeb-b47f-abd9ee484719"
      },
      "source": [
        "result = []\n",
        "for i in range(10):\n",
        "  company = b[i]\n",
        "  #print(company)\n",
        "  quote_table = si.get_quote_table(company, dict_result=True)\n",
        "  anal= si.get_analysts_info(company)\n",
        "  x = anal['Growth Estimates']\n",
        "  val = x[company].values[4]\n",
        "  print(val)\n",
        "  s = \"\"  \n",
        "  for i in range(len(val)):\n",
        "    if val[i] == \"%\" or val[i] == \".\":\n",
        "      s = s\n",
        "    else:\n",
        "      s += val[i]\n",
        "  #print(s)\n",
        "  l = len(s)\n",
        "  div = 10000\n",
        "  #print(div)\n",
        "  s = int(s)\n",
        "  s = s/div\n",
        "  print(s)\n",
        "\n",
        "  growth_rate = s\n",
        "  min_ror = 0.15\n",
        "  margin_of_safety = 0.50\n",
        "  p_e_ratio = quote_table[\"PE Ratio (TTM)\"]\n",
        "  eps = quote_table[\"EPS (TTM)\"]\n",
        "  curr_price = quote_table[\"Quote Price\"]\n",
        "  eps_after_ten = eps\n",
        "  for i in range(9):\n",
        "    eps_after_ten += growth_rate*eps_after_ten\n",
        "  share_price_after_ten = eps_after_ten * p_e_ratio\n",
        "  expected_price = share_price_after_ten\n",
        "  for i in range(9):\n",
        "    expected_price = expected_price/(1+min_ror)\n",
        "  curr_value = expected_price\n",
        "  #print(curr_value)\n",
        "  add_to_result = (company, curr_value)\n",
        "  print(add_to_result)\n",
        "  result.append(add_to_result)\n",
        "\n",
        "\n"
      ],
      "execution_count": null,
      "outputs": [
        {
          "output_type": "stream",
          "name": "stdout",
          "text": [
            "19.61%\n",
            "0.1961\n",
            "('AAPL', 212.2131591215428)\n",
            "5.95%\n",
            "0.0595\n",
            "('AMGN', 102.16652518029487)\n",
            "41.00%\n",
            "0.41\n",
            "('AXP', 993.8677031716978)\n",
            "12.33%\n",
            "0.1233\n",
            "('BA', nan)\n",
            "31.13%\n",
            "0.3113\n",
            "('CAT', 667.6163349679173)\n",
            "10.37%\n",
            "0.1037\n",
            "('CRM', 177.68017659665324)\n",
            "6.45%\n",
            "0.0645\n",
            "('CSCO', 28.89272429356664)\n",
            "-4.90%\n",
            "-0.049\n",
            "('CVX', nan)\n",
            "50.89%\n",
            "0.5089\n",
            "('DIS', nan)\n",
            "-5.43%\n",
            "-0.0543\n",
            "('DOW', 10.400673237317468)\n"
          ]
        }
      ]
    },
    {
      "cell_type": "code",
      "metadata": {
        "id": "zXYBf-9EHmxJ"
      },
      "source": [
        "q = si.get_quote_table(\"BA\",dict_result =True)\n"
      ],
      "execution_count": null,
      "outputs": []
    },
    {
      "cell_type": "code",
      "metadata": {
        "colab": {
          "base_uri": "https://localhost:8080/"
        },
        "id": "GpMUtUG4Hu-p",
        "outputId": "f1c8ee5a-1370-4477-b0a0-12ea87e0853b"
      },
      "source": [
        "import math\n",
        "print(q)\n",
        "\n",
        "\n",
        "growth_rate = 0.15\n",
        "min_ror = 0.15\n",
        "margin_of_safety = 0.50\n",
        "p_e_ratio = q[\"PE Ratio (TTM)\"]\n",
        "\n",
        "eps = q[\"EPS (TTM)\"]\n",
        "x = float('nan')\n",
        "if(math.isnan(p_e_ratio)):\n",
        "  print(\"GG\")\n",
        "curr_price = q[\"Quote Price\"]\n",
        "eps_after_ten = eps\n",
        "for i in range(9):\n",
        "  eps_after_ten += growth_rate*eps_after_ten\n",
        "share_price_after_ten = eps_after_ten * p_e_ratio\n",
        "expected_price = share_price_after_ten\n",
        "for i in range(9):\n",
        "  expected_price = expected_price/(1+min_ror)\n",
        "curr_value = expected_price\n",
        "\n",
        "\n",
        "\n",
        "#print(curr_value)\n",
        "# add_to_result = (company, curr_value)\n",
        "# print(add_to_result)\n",
        "# result.append(add_to_result)"
      ],
      "execution_count": null,
      "outputs": [
        {
          "output_type": "stream",
          "name": "stdout",
          "text": [
            "{'1y Target Est': 268.22, '52 Week Range': '141.58 - 278.57', 'Ask': '211.38 x 900', 'Avg. Volume': 10777435.0, 'Beta (5Y Monthly)': 1.62, 'Bid': '211.30 x 1200', \"Day's Range\": '210.13 - 215.89', 'EPS (TTM)': -20.55, 'Earnings Date': 'Oct 26, 2021 - Nov 01, 2021', 'Ex-Dividend Date': 'Feb 13, 2020', 'Forward Dividend & Yield': 'N/A (N/A)', 'Market Cap': '122.986B', 'Open': 215.16, 'PE Ratio (TTM)': nan, 'Previous Close': 213.94, 'Quote Price': 210.3000030517578, 'Volume': 6959706.0}\n",
            "GG\n"
          ]
        },
        {
          "output_type": "execute_result",
          "data": {
            "text/plain": [
              "False"
            ]
          },
          "metadata": {},
          "execution_count": 61
        }
      ]
    },
    {
      "cell_type": "code",
      "metadata": {
        "colab": {
          "base_uri": "https://localhost:8080/"
        },
        "id": "BM5P9TN4IAKY",
        "outputId": "4e28ae6a-df59-42f8-9fc6-2f207d868dd7"
      },
      "source": [
        "print(quote_table)"
      ],
      "execution_count": null,
      "outputs": [
        {
          "output_type": "stream",
          "name": "stdout",
          "text": [
            "{'1y Target Est': 67.29, '52 Week Range': '44.33 - 71.38', 'Ask': '60.68 x 800', 'Avg. Volume': 4141314.0, 'Beta (5Y Monthly)': 1.72, 'Bid': '60.67 x 1400', \"Day's Range\": '60.34 - 61.44', 'EPS (TTM)': 2.65, 'Earnings Date': 'Oct 20, 2021 - Oct 25, 2021', 'Ex-Dividend Date': 'Aug 30, 2021', 'Forward Dividend & Yield': '2.80 (4.38%)', 'Market Cap': '45.126B', 'Open': 60.85, 'PE Ratio (TTM)': 22.82, 'Previous Close': 60.28, 'Quote Price': 60.40999984741211, 'Volume': 4093257.0}\n"
          ]
        }
      ]
    },
    {
      "cell_type": "code",
      "metadata": {
        "id": "oqUC46buIQ5u"
      },
      "source": [
        ""
      ],
      "execution_count": null,
      "outputs": []
    }
  ]
}